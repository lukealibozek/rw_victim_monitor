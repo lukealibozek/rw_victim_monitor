{
 "cells": [
  {
   "cell_type": "code",
   "execution_count": 1,
   "metadata": {},
   "outputs": [
    {
     "ename": "ModuleNotFoundError",
     "evalue": "No module named 'feedparser'",
     "output_type": "error",
     "traceback": [
      "\u001b[0;31m---------------------------------------------------------------------------\u001b[0m",
      "\u001b[0;31mModuleNotFoundError\u001b[0m                       Traceback (most recent call last)",
      "Cell \u001b[0;32mIn[1], line 1\u001b[0m\n\u001b[0;32m----> 1\u001b[0m \u001b[39mimport\u001b[39;00m \u001b[39mfeedparser\u001b[39;00m\n\u001b[1;32m      3\u001b[0m \u001b[39m# define the RSS feed URL\u001b[39;00m\n\u001b[1;32m      4\u001b[0m rss_url \u001b[39m=\u001b[39m \u001b[39m'\u001b[39m\u001b[39mhttps://www.inoreader.com/stream/user/1004920918/tag/Py\u001b[39m\u001b[39m%\u001b[39m\u001b[39m3A\u001b[39m\u001b[39m%\u001b[39m\u001b[39m20Ransomware\u001b[39m\u001b[39m%\u001b[39m\u001b[39m20monitor\u001b[39m\u001b[39m'\u001b[39m\n",
      "\u001b[0;31mModuleNotFoundError\u001b[0m: No module named 'feedparser'"
     ]
    }
   ],
   "source": [
    "import feedparser\n",
    "\n",
    "# define the RSS feed URL\n",
    "rss_url = 'https://www.inoreader.com/stream/user/1004920918/tag/Py%3A%20Ransomware%20monitor'\n",
    "\n",
    "# parse the RSS feed\n",
    "feed = feedparser.parse(rss_url)\n",
    "\n",
    "# iterate over each item in the feed\n",
    "for item in feed.entries:\n",
    "    # extract victim name\n",
    "    victim_name = item.title.split('Victim Name')[1].split('</td>')[0].replace('<td>', '').strip()\n",
    "    # extract ransomware name\n",
    "    ransomware_name = item.title.split('Ransomware Victim: ')[1].split('[')[0].strip()\n",
    "    # extract source URL\n",
    "    source_url = item.link\n",
    "    # extract source title\n",
    "    source_title = item.title\n",
    "    \n",
    "    # print the extracted information\n",
    "    print('Victim Name:', victim_name)\n",
    "    print('Ransomware Name:', ransomware_name)\n",
    "    print('Source URL:', source_url)\n",
    "    print('Source Title:', source_title)\n"
   ]
  }
 ],
 "metadata": {
  "kernelspec": {
   "display_name": "cti",
   "language": "python",
   "name": "python3"
  },
  "language_info": {
   "codemirror_mode": {
    "name": "ipython",
    "version": 3
   },
   "file_extension": ".py",
   "mimetype": "text/x-python",
   "name": "python",
   "nbconvert_exporter": "python",
   "pygments_lexer": "ipython3",
   "version": "3.9.16"
  },
  "orig_nbformat": 4
 },
 "nbformat": 4,
 "nbformat_minor": 2
}
